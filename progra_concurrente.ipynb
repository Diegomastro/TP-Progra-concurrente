{
  "nbformat": 4,
  "nbformat_minor": 0,
  "metadata": {
    "colab": {
      "provenance": [],
      "include_colab_link": true
    },
    "kernelspec": {
      "name": "python3",
      "display_name": "Python 3"
    },
    "language_info": {
      "name": "python"
    }
  },
  "cells": [
    {
      "cell_type": "markdown",
      "metadata": {
        "id": "view-in-github",
        "colab_type": "text"
      },
      "source": [
        "<a href=\"https://colab.research.google.com/github/TomasRojass/TP-Progra-concurrente/blob/main/progra_concurrente.ipynb\" target=\"_parent\"><img src=\"https://colab.research.google.com/assets/colab-badge.svg\" alt=\"Open In Colab\"/></a>"
      ]
    },
    {
      "cell_type": "markdown",
      "source": [
        "# Trabajo Práctico N° 1- Parte1"
      ],
      "metadata": {
        "id": "VAVAUonEuyz6"
      }
    },
    {
      "cell_type": "markdown",
      "source": [
        "## Python"
      ],
      "metadata": {
        "id": "Rz-xgLzBu4zm"
      }
    },
    {
      "cell_type": "code",
      "source": [
        "%%writefile fork.py\n",
        "\n",
        "import os\n",
        "import sys\n",
        "import time\n",
        "\n",
        "\n",
        "def pids_proceso(letra):\n",
        "    print(f\"Proceso {letra}. PID {os.getpid()}, PID PADRE {os.getppid()} \\n\")\n",
        "\n",
        "# tuve que crear un archivo para ver el pid para el pstree porque aca en el colab\n",
        "# ni con sys.stdout.flush() me manda los prints a la terminal hasta que termina de ejecutar\n",
        "os.system(\"rm PID_*\")\n",
        "with open(f\"PID_{os.getpid()}\", \"w\") as f:\n",
        "  pass\n",
        "\n",
        "pid_ab = os.fork()\n",
        "\n",
        "if pid_ab < 0:\n",
        "    sys.exit(\"Error al crear el nuevo proceso\")\n",
        "\n",
        "if pid_ab:  # A\n",
        "    pid_ac = os.fork()\n",
        "    if pid_ac:  # A\n",
        "        pids_proceso(\"A\")\n",
        "        print(os.wait())  # A waitfor B\n",
        "        print(os.wait())  # A waitfor C\n",
        "    else:  # C\n",
        "        pid_cf = os.fork()\n",
        "        if pid_cf:  # C\n",
        "            pids_proceso(\"C\")\n",
        "            os.wait()  # C waitfor F\n",
        "            os._exit(os.EX_OK)\n",
        "        else:  # F\n",
        "            pids_proceso(\"F\")\n",
        "            time.sleep(30)\n",
        "            os._exit(os.EX_OK)\n",
        "\n",
        "else:  # B\n",
        "    pid_bd = os.fork()\n",
        "    if pid_bd:  # B\n",
        "        pid_be = os.fork()\n",
        "        if pid_be:  # B\n",
        "            pids_proceso(\"B\")\n",
        "            print(os.wait())  # B waitfor D\n",
        "            print(os.wait())  # B waitfor E\n",
        "            os._exit(os.EX_OK)\n",
        "        else:  # E\n",
        "            pid_eg = os.fork()\n",
        "            if pid_eg:  # E\n",
        "                pid_eh = os.fork()\n",
        "                if pid_eh:  # E\n",
        "                    pids_proceso(\"E\")\n",
        "                    print(os.wait())  # E waitfor G\n",
        "                    print(os.wait())  # E waitfor G\n",
        "                    os._exit(os.EX_OK)\n",
        "                else:\n",
        "                    pids_proceso(\"H\")\n",
        "                    time.sleep(30)\n",
        "                    os._exit(os.EX_OK)\n",
        "            else:  # G\n",
        "                pids_proceso(\"G\")\n",
        "                time.sleep(30)\n",
        "                os._exit(os.EX_OK)\n",
        "    else:  # D\n",
        "        pids_proceso(\"D\")\n",
        "        time.sleep(30)\n",
        "        os._exit(os.EX_OK)"
      ],
      "metadata": {
        "id": "iKK15jq57BNn",
        "outputId": "2ba3e184-4234-40c0-95a7-d2acaac4ea09",
        "colab": {
          "base_uri": "https://localhost:8080/"
        }
      },
      "execution_count": null,
      "outputs": [
        {
          "output_type": "stream",
          "name": "stdout",
          "text": [
            "Writing fork.py\n"
          ]
        }
      ]
    },
    {
      "cell_type": "code",
      "source": [
        "!nohup python fork.py 1>salida.txt 2>/dev/null &"
      ],
      "metadata": {
        "id": "4SYN67DV9Y95"
      },
      "execution_count": null,
      "outputs": []
    },
    {
      "cell_type": "code",
      "source": [
        "!pstree -pc 4282"
      ],
      "metadata": {
        "id": "s7zlHryr9iYu",
        "colab": {
          "base_uri": "https://localhost:8080/"
        },
        "outputId": "2447500c-93d1-47c1-d5a0-571a72bc2c6b"
      },
      "execution_count": null,
      "outputs": [
        {
          "output_type": "stream",
          "name": "stdout",
          "text": [
            "python3(4282)─┬─python3(4286)─┬─python3(4288)\n",
            "              │               └─python3(4289)─┬─python3(4291)\n",
            "              │                               └─python3(4292)\n",
            "              └─python3(4287)───python3(4290)\n"
          ]
        }
      ]
    },
    {
      "cell_type": "markdown",
      "source": [
        "## Java:"
      ],
      "metadata": {
        "id": "vjXVYwCtKzCc"
      }
    },
    {
      "cell_type": "code",
      "source": [
        "%%writefile Process.java\n",
        "import java.io.IOException;\n",
        "\n",
        "class ParentProcess\n",
        "{\n",
        "    static Process childs[];\n",
        "\n",
        "    public static void createChilds() throws IOException,InterruptedException\n",
        "    {\n",
        "            //Proceso B\n",
        "            ProcessBuilder processB = new ProcessBuilder(\"java\", \"ChildProcess.java\", \"B\");\n",
        "            processB.inheritIO();\n",
        "            Process pB = processB.start();\n",
        "\n",
        "            // Proceso C\n",
        "            ProcessBuilder processC = new ProcessBuilder(\"java\", \"ChildProcess.java\", \"C\");\n",
        "            processC.inheritIO();\n",
        "            Process pC = processC.start();\n",
        "\n",
        "            pB.waitFor();\n",
        "            pC.waitFor();\n",
        "    }\n",
        "\n",
        "    public static void main(String[] args) throws IOException, InterruptedException\n",
        "    {\n",
        "        ProcessHandle yo = ProcessHandle.current();\n",
        "        long pid  = yo.pid();\n",
        "        long ppid = yo.parent().get().pid();\n",
        "        System.out.println(\"A\" + \" PID: \" + pid + \" PPID: \" + ppid );\n",
        "        createChilds();\n",
        "    }\n",
        "\n",
        "}"
      ],
      "metadata": {
        "id": "wyPYziA7KwVL",
        "colab": {
          "base_uri": "https://localhost:8080/"
        },
        "outputId": "b304b3ec-23d4-4800-8117-43a4841b9a74"
      },
      "execution_count": null,
      "outputs": [
        {
          "output_type": "stream",
          "name": "stdout",
          "text": [
            "Writing Process.java\n"
          ]
        }
      ]
    },
    {
      "cell_type": "code",
      "source": [
        "%%writefile ChildProcess.java\n",
        "import java.io.IOException;\n",
        "\n",
        "class ChildProcess\n",
        "{\n",
        "    public static void showInfo( String id )\n",
        "    {\n",
        "        ProcessHandle yo = ProcessHandle.current();\n",
        "        long pid  = yo.pid();\n",
        "        long ppid = yo.parent().get().pid();\n",
        "        System.out.println(id + \" PID: \" + pid + \" PPID: \" + ppid );\n",
        "    }\n",
        "\n",
        "    public static void main(String[] args) throws IOException,InterruptedException\n",
        "    {\n",
        "        showInfo(args[0]);\n",
        "        if(args[0].equals(\"B\"))\n",
        "        {\n",
        "            //Proceso D\n",
        "            ProcessBuilder processD = new ProcessBuilder(\"java\", \"ChildProcess.java\", \"D\");\n",
        "            processD.inheritIO();\n",
        "            Process pD = processD.start();\n",
        "\n",
        "            //Proceso E\n",
        "            ProcessBuilder processE = new ProcessBuilder(\"java\", \"ChildProcess.java\", \"E\");\n",
        "            processE.inheritIO();\n",
        "            Process pE = processE.start();\n",
        "\n",
        "            pD.waitFor();\n",
        "            pE.waitFor();\n",
        "        }\n",
        "\n",
        "        if(args[0].equals(\"C\"))\n",
        "        {\n",
        "            //Proceso F\n",
        "            ProcessBuilder processF = new ProcessBuilder(\"java\", \"ChildProcess.java\", \"F\");\n",
        "            processF.inheritIO();\n",
        "            Process pF = processF.start();\n",
        "\n",
        "            pF.waitFor();\n",
        "        }\n",
        "\n",
        "        if(args[0].equals(\"E\"))\n",
        "        {\n",
        "            //Proceso G\n",
        "            ProcessBuilder processG = new ProcessBuilder(\"java\", \"ChildProcess.java\", \"G\");\n",
        "            processG.inheritIO();\n",
        "            Process pG = processG.start();\n",
        "\n",
        "            //Proceso H\n",
        "            ProcessBuilder processH = new ProcessBuilder(\"java\", \"ChildProcess.java\", \"H\");\n",
        "            processH.inheritIO();\n",
        "            Process pH = processH.start();\n",
        "\n",
        "            pG.waitFor();\n",
        "            pH.waitFor();\n",
        "        }\n",
        "\n",
        "        if(args[0].equals(\"G\"))\n",
        "          Thread.sleep(100000); // 100 segundos\n",
        "\n",
        "        if(args[0].equals(\"H\"))\n",
        "          Thread.sleep(100000); // 100 segundos\n",
        "\n",
        "        if(args[0].equals(\"D\"))\n",
        "          Thread.sleep(100000); // 100 segundos\n",
        "\n",
        "        if(args[0].equals(\"F\"))\n",
        "          Thread.sleep(100000); // 100 segundos\n",
        "    }\n",
        "}"
      ],
      "metadata": {
        "id": "XU6oAqV6K3Pl",
        "colab": {
          "base_uri": "https://localhost:8080/"
        },
        "outputId": "c7a48ddc-b4d4-4262-bc87-43c0423ebd08"
      },
      "execution_count": null,
      "outputs": [
        {
          "output_type": "stream",
          "name": "stdout",
          "text": [
            "Writing ChildProcess.java\n"
          ]
        }
      ]
    },
    {
      "cell_type": "code",
      "source": [
        "!nohup java Process.java 1>salida.txt 2>/dev/null &"
      ],
      "metadata": {
        "id": "I_eZefzsK-Ap"
      },
      "execution_count": null,
      "outputs": []
    },
    {
      "cell_type": "code",
      "source": [
        "!pstree -pT 1390"
      ],
      "metadata": {
        "colab": {
          "base_uri": "https://localhost:8080/"
        },
        "id": "cvvU6ZDMQSu8",
        "outputId": "b5d76513-2379-4306-fd3d-4fc1a0f11885"
      },
      "execution_count": null,
      "outputs": [
        {
          "output_type": "stream",
          "name": "stdout",
          "text": [
            "java(1390)─┬─java(1413)─┬─java(1460)\n",
            "           │            └─java(1466)─┬─java(1536)\n",
            "           │                         └─java(1539)\n",
            "           └─java(1415)───java(1500)\n"
          ]
        }
      ]
    },
    {
      "cell_type": "markdown",
      "source": [
        "## C++"
      ],
      "metadata": {
        "id": "ur-pKZHwc6f6"
      }
    },
    {
      "cell_type": "code",
      "source": [
        "%%writefile fork.cpp\n",
        "#include <stdio.h>\n",
        "#include <stdlib.h>\n",
        "#include <unistd.h>\n",
        "#include <sys/wait.h>\n",
        "\n",
        "char fork_wait(char process, int child_count, char childs[]);\n",
        "\n",
        "int main()\n",
        "{\n",
        "  char childs_a[] = {'B', 'C'};\n",
        "  char childs_b[] = {'D', 'E'};\n",
        "  char childs_c[] = {'F'};\n",
        "  char childs_e[] = {'G', 'H'};\n",
        "\n",
        "  printf(\"Proceso A PID: %d, PPID: %d\\n\", getpid(), getppid());\n",
        "\n",
        "\tchar process = fork_wait('A', 2, childs_a);\n",
        "  if(process == 'B')\n",
        "  {\n",
        "    printf(\"Proceso B PID: %d, PPID: %d\\n\", getpid(), getppid());\n",
        "    char process = fork_wait('B', 2, childs_b);\n",
        "    if(process == 'D')\n",
        "    {\n",
        "      printf(\"Proceso D PID: %d, PPID: %d\\n\", getpid(), getppid());\n",
        "      sleep(10);\n",
        "      return EXIT_SUCCESS;\n",
        "    }\n",
        "    if(process == 'E')\n",
        "    {\n",
        "      printf(\"Proceso E PID: %d, PPID: %d\\n\", getpid(), getppid());\n",
        "      char process = fork_wait('E', 2, childs_e);\n",
        "      if(process == 'G' || process == 'H')\n",
        "      {\n",
        "        printf(\"Proceso %c PID: %d, PPID: %d\\n\", process, getpid(), getppid());\n",
        "        sleep(10);\n",
        "        return EXIT_SUCCESS;\n",
        "      }\n",
        "    }\n",
        "  }\n",
        "  if(process == 'C')\n",
        "  {\n",
        "    printf(\"Proceso C PID: %d, PPID: %d\\n\", getpid(), getppid());\n",
        "    char process = fork_wait('C', 1, childs_c);\n",
        "    if(process == 'F')\n",
        "    {\n",
        "      printf(\"Proceso F PID: %d, PPID: %d\\n\", getpid(), getppid());\n",
        "      sleep(10);\n",
        "      return EXIT_SUCCESS;\n",
        "    }\n",
        "  }\n",
        "\treturn EXIT_SUCCESS;\n",
        "}\n",
        "\n",
        "char fork_wait(char process, int child_count, char childs[])\n",
        "{\n",
        "  printf(\"Process %c PID: %d, PPID: %d\\n\",process, getpid(), getppid());\n",
        "\n",
        "  for(int child=0; child<child_count; child++)\n",
        "  {\n",
        "    pid_t pid = fork();\n",
        "    if(!pid)\n",
        "    {\n",
        "      return childs[child];\n",
        "    }\n",
        "  }\n",
        "  for(int child=0; child<child_count; child++)\n",
        "  {\n",
        "    wait(NULL);\n",
        "  }\n",
        "  return process;\n",
        "}"
      ],
      "metadata": {
        "colab": {
          "base_uri": "https://localhost:8080/"
        },
        "id": "POJgUaXRc9BT",
        "outputId": "563976fe-fb33-4a83-d146-87ce2deffbda"
      },
      "execution_count": null,
      "outputs": [
        {
          "output_type": "stream",
          "name": "stdout",
          "text": [
            "Overwriting fork.cpp\n"
          ]
        }
      ]
    },
    {
      "cell_type": "code",
      "source": [
        "!gcc -o forkc ./fork.cpp"
      ],
      "metadata": {
        "id": "11RdR_KmdMEk"
      },
      "execution_count": null,
      "outputs": []
    },
    {
      "cell_type": "code",
      "source": [
        "!nohup ./forkc 1>salida-c.txt 2>/dev/null &"
      ],
      "metadata": {
        "id": "vTYEZAYDejPG"
      },
      "execution_count": null,
      "outputs": []
    },
    {
      "cell_type": "code",
      "source": [
        "!pstree -pc 83170"
      ],
      "metadata": {
        "colab": {
          "base_uri": "https://localhost:8080/"
        },
        "id": "iGBKE258ey5I",
        "outputId": "78c049d4-5ddb-440e-bce5-6deb73e7b8a5"
      },
      "execution_count": null,
      "outputs": [
        {
          "output_type": "stream",
          "name": "stdout",
          "text": [
            "forkc(83170)─┬─forkc(83171)─┬─forkc(83175)\n",
            "             │              └─forkc(83176)─┬─forkc(83177)\n",
            "             │                             └─forkc(83178)\n",
            "             └─forkc(83172)───forkc(83173)\n"
          ]
        }
      ]
    }
  ]
}